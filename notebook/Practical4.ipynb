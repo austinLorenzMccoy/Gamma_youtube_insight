{
 "cells": [
  {
   "cell_type": "code",
   "execution_count": 1,
   "id": "3c04df2c-228e-4ce3-b92e-e3a96551db5b",
   "metadata": {},
   "outputs": [],
   "source": [
    "import os\n",
    "from groq import Groq  \n",
    "import json\n",
    "from dotenv import load_dotenv\n",
    "\n",
    "load_dotenv()\n",
    "\n",
    "# Initialize Groq client with API key from .env\n",
    "client = Groq(\n",
    "    api_key=os.getenv(\"GROQ_API_KEY\") \n",
    ")"
   ]
  },
  {
   "cell_type": "code",
   "execution_count": null,
   "id": "4b3af17c",
   "metadata": {},
   "outputs": [],
   "source": [
    "import serpapi\n",
    "import os, requests\n",
    "\n",
    "def get_search_result(query):\n",
    "    client =serpapi.Client(api_key= os.getenv(\"SERP_API_KEY\"))\n",
    "    r= client.search({\n",
    "        \"q\": query,\n",
    "        \"engine\": \"google\",\n",
    "\n",
    "    })\n",
    "\n",
    "    results = ''\n",
    "    for res in r['organic_results']:\n",
    "        results += res['snippet'] + '\\n'\n",
    "\n",
    "    return (results)\n",
    "\n",
    "def get_walmart_product_information(product_name):\n",
    "    client =serpapi.Client(api_key= os.getenv(\"SERP_API_KEY\"))\n",
    "    r= client.search({\n",
    "        \"query\": product_name,\n",
    "        \"engine\": \"walmart\",\n",
    "    })\n",
    "\n",
    "    results = \"\"\n",
    "    for res in r['organic_results']:\n",
    "        results += 'Title: ' + res['title'] + '\\t' + \\\n",
    "        'Rating:' + res['rating'] + '\\t' + \\\n",
    "        'Out of Stock:' + str(res['in_stock']) + '\\t' + \\\n",
    "        'Price:' + str(res['primary_offer']['offer_price']) + '\\n\\n'\n",
    "    \n",
    "    return results\n",
    "\n",
    "def get_flight_booking_info(departure_id, arrival_id, outbound_date, return_date):\n",
    "    client =serpapi.Client(api_key= os.getenv(\"SERP_API_KEY\"))\n",
    "    r = client.search({\n",
    "        \"engine\": \"google_flights\",\n",
    "        \"departure_id\": departure_id,\n",
    "        \"arrival_id\": arrival_id,\n",
    "        \"outbound_date\": outbound_date,\n",
    "        \"return_date\": return_date,\n",
    "        \"currency\": \"USD\",\n",
    "    })\n",
    "\n",
    "    return r.get('best_flights', r['other_flights'])"
   ]
  },
  {
   "cell_type": "code",
   "execution_count": 4,
   "id": "4d134e3f",
   "metadata": {},
   "outputs": [
    {
     "ename": "HTTPError",
     "evalue": "401 Client Error: Unauthorized for url: https://serpapi.com/search?q=Arsenal+FC&engine=google&api_key=23f1ad4252211fa299c2b89e1b4f424468a7012f",
     "output_type": "error",
     "traceback": [
      "\u001b[0;31m---------------------------------------------------------------------------\u001b[0m",
      "\u001b[0;31mHTTPError\u001b[0m                                 Traceback (most recent call last)",
      "File \u001b[0;32m~/Documents/DivverseLabs/AgenticAI_proj4/venv/lib/python3.10/site-packages/serpapi/http.py:59\u001b[0m, in \u001b[0;36mraise_for_status\u001b[0;34m(r)\u001b[0m\n\u001b[1;32m     58\u001b[0m \u001b[38;5;28;01mtry\u001b[39;00m:\n\u001b[0;32m---> 59\u001b[0m     \u001b[43mr\u001b[49m\u001b[38;5;241;43m.\u001b[39;49m\u001b[43mraise_for_status\u001b[49m\u001b[43m(\u001b[49m\u001b[43m)\u001b[49m\n\u001b[1;32m     60\u001b[0m \u001b[38;5;28;01mexcept\u001b[39;00m requests\u001b[38;5;241m.\u001b[39mexceptions\u001b[38;5;241m.\u001b[39mHTTPError \u001b[38;5;28;01mas\u001b[39;00m e:\n",
      "File \u001b[0;32m~/Documents/DivverseLabs/AgenticAI_proj4/venv/lib/python3.10/site-packages/requests/models.py:1024\u001b[0m, in \u001b[0;36mResponse.raise_for_status\u001b[0;34m(self)\u001b[0m\n\u001b[1;32m   1023\u001b[0m \u001b[38;5;28;01mif\u001b[39;00m http_error_msg:\n\u001b[0;32m-> 1024\u001b[0m     \u001b[38;5;28;01mraise\u001b[39;00m HTTPError(http_error_msg, response\u001b[38;5;241m=\u001b[39m\u001b[38;5;28mself\u001b[39m)\n",
      "\u001b[0;31mHTTPError\u001b[0m: 401 Client Error: Unauthorized for url: https://serpapi.com/search?q=Arsenal+FC&engine=google&api_key=23f1ad4252211fa299c2b89e1b4f424468a7012f",
      "\nDuring handling of the above exception, another exception occurred:\n",
      "\u001b[0;31mHTTPError\u001b[0m                                 Traceback (most recent call last)",
      "File \u001b[0;32m~/Documents/DivverseLabs/AgenticAI_proj4/venv/lib/python3.10/site-packages/serpapi/http.py:47\u001b[0m, in \u001b[0;36mHTTPClient.request\u001b[0;34m(self, method, path, params, assert_200, **kwargs)\u001b[0m\n\u001b[1;32m     46\u001b[0m \u001b[38;5;28;01mtry\u001b[39;00m:\n\u001b[0;32m---> 47\u001b[0m     \u001b[43mraise_for_status\u001b[49m\u001b[43m(\u001b[49m\u001b[43mr\u001b[49m\u001b[43m)\u001b[49m\n\u001b[1;32m     48\u001b[0m \u001b[38;5;28;01mexcept\u001b[39;00m requests\u001b[38;5;241m.\u001b[39mexceptions\u001b[38;5;241m.\u001b[39mHTTPError \u001b[38;5;28;01mas\u001b[39;00m e:\n",
      "File \u001b[0;32m~/Documents/DivverseLabs/AgenticAI_proj4/venv/lib/python3.10/site-packages/serpapi/http.py:61\u001b[0m, in \u001b[0;36mraise_for_status\u001b[0;34m(r)\u001b[0m\n\u001b[1;32m     60\u001b[0m \u001b[38;5;28;01mexcept\u001b[39;00m requests\u001b[38;5;241m.\u001b[39mexceptions\u001b[38;5;241m.\u001b[39mHTTPError \u001b[38;5;28;01mas\u001b[39;00m e:\n\u001b[0;32m---> 61\u001b[0m     \u001b[38;5;28;01mraise\u001b[39;00m HTTPError(e)\n",
      "\u001b[0;31mHTTPError\u001b[0m: 401 Client Error: Unauthorized for url: https://serpapi.com/search?q=Arsenal+FC&engine=google&api_key=23f1ad4252211fa299c2b89e1b4f424468a7012f",
      "\nDuring handling of the above exception, another exception occurred:\n",
      "\u001b[0;31mHTTPError\u001b[0m                                 Traceback (most recent call last)",
      "Cell \u001b[0;32mIn[4], line 2\u001b[0m\n\u001b[1;32m      1\u001b[0m \u001b[38;5;66;03m# Test the function\u001b[39;00m\n\u001b[0;32m----> 2\u001b[0m \u001b[38;5;28mprint\u001b[39m(\u001b[43mget_search_result\u001b[49m\u001b[43m(\u001b[49m\u001b[38;5;124;43m'\u001b[39;49m\u001b[38;5;124;43mArsenal FC\u001b[39;49m\u001b[38;5;124;43m'\u001b[39;49m\u001b[43m)\u001b[49m)\n",
      "Cell \u001b[0;32mIn[3], line 6\u001b[0m, in \u001b[0;36mget_search_result\u001b[0;34m(query)\u001b[0m\n\u001b[1;32m      4\u001b[0m \u001b[38;5;28;01mdef\u001b[39;00m\u001b[38;5;250m \u001b[39m\u001b[38;5;21mget_search_result\u001b[39m(query):\n\u001b[1;32m      5\u001b[0m     client \u001b[38;5;241m=\u001b[39mserpapi\u001b[38;5;241m.\u001b[39mClient(api_key\u001b[38;5;241m=\u001b[39m \u001b[38;5;124m\"\u001b[39m\u001b[38;5;124m23f1ad4252211fa299c2b89e1b4f424468a7012f\u001b[39m\u001b[38;5;124m\"\u001b[39m)\n\u001b[0;32m----> 6\u001b[0m     r\u001b[38;5;241m=\u001b[39m \u001b[43mclient\u001b[49m\u001b[38;5;241;43m.\u001b[39;49m\u001b[43msearch\u001b[49m\u001b[43m(\u001b[49m\u001b[43m{\u001b[49m\n\u001b[1;32m      7\u001b[0m \u001b[43m        \u001b[49m\u001b[38;5;124;43m\"\u001b[39;49m\u001b[38;5;124;43mq\u001b[39;49m\u001b[38;5;124;43m\"\u001b[39;49m\u001b[43m:\u001b[49m\u001b[43m \u001b[49m\u001b[43mquery\u001b[49m\u001b[43m,\u001b[49m\n\u001b[1;32m      8\u001b[0m \u001b[43m        \u001b[49m\u001b[38;5;124;43m\"\u001b[39;49m\u001b[38;5;124;43mengine\u001b[39;49m\u001b[38;5;124;43m\"\u001b[39;49m\u001b[43m:\u001b[49m\u001b[43m \u001b[49m\u001b[38;5;124;43m\"\u001b[39;49m\u001b[38;5;124;43mgoogle\u001b[39;49m\u001b[38;5;124;43m\"\u001b[39;49m\u001b[43m,\u001b[49m\n\u001b[1;32m      9\u001b[0m \n\u001b[1;32m     10\u001b[0m \u001b[43m    \u001b[49m\u001b[43m}\u001b[49m\u001b[43m)\u001b[49m\n\u001b[1;32m     12\u001b[0m     results \u001b[38;5;241m=\u001b[39m \u001b[38;5;124m'\u001b[39m\u001b[38;5;124m'\u001b[39m\n\u001b[1;32m     13\u001b[0m     \u001b[38;5;28;01mfor\u001b[39;00m res \u001b[38;5;129;01min\u001b[39;00m r[\u001b[38;5;124m'\u001b[39m\u001b[38;5;124morganic_results\u001b[39m\u001b[38;5;124m'\u001b[39m]:\n",
      "File \u001b[0;32m~/Documents/DivverseLabs/AgenticAI_proj4/venv/lib/python3.10/site-packages/serpapi/core.py:66\u001b[0m, in \u001b[0;36mClient.search\u001b[0;34m(self, params, **kwargs)\u001b[0m\n\u001b[1;32m     63\u001b[0m \u001b[38;5;28;01mif\u001b[39;00m kwargs:\n\u001b[1;32m     64\u001b[0m     params\u001b[38;5;241m.\u001b[39mupdate(kwargs)\n\u001b[0;32m---> 66\u001b[0m r \u001b[38;5;241m=\u001b[39m \u001b[38;5;28;43mself\u001b[39;49m\u001b[38;5;241;43m.\u001b[39;49m\u001b[43mrequest\u001b[49m\u001b[43m(\u001b[49m\u001b[38;5;124;43m\"\u001b[39;49m\u001b[38;5;124;43mGET\u001b[39;49m\u001b[38;5;124;43m\"\u001b[39;49m\u001b[43m,\u001b[49m\u001b[43m \u001b[49m\u001b[38;5;124;43m\"\u001b[39;49m\u001b[38;5;124;43m/search\u001b[39;49m\u001b[38;5;124;43m\"\u001b[39;49m\u001b[43m,\u001b[49m\u001b[43m \u001b[49m\u001b[43mparams\u001b[49m\u001b[38;5;241;43m=\u001b[39;49m\u001b[43mparams\u001b[49m\u001b[43m)\u001b[49m\n\u001b[1;32m     68\u001b[0m \u001b[38;5;28;01mreturn\u001b[39;00m SerpResults\u001b[38;5;241m.\u001b[39mfrom_http_response(r, client\u001b[38;5;241m=\u001b[39m\u001b[38;5;28mself\u001b[39m)\n",
      "File \u001b[0;32m~/Documents/DivverseLabs/AgenticAI_proj4/venv/lib/python3.10/site-packages/serpapi/http.py:49\u001b[0m, in \u001b[0;36mHTTPClient.request\u001b[0;34m(self, method, path, params, assert_200, **kwargs)\u001b[0m\n\u001b[1;32m     47\u001b[0m         raise_for_status(r)\n\u001b[1;32m     48\u001b[0m     \u001b[38;5;28;01mexcept\u001b[39;00m requests\u001b[38;5;241m.\u001b[39mexceptions\u001b[38;5;241m.\u001b[39mHTTPError \u001b[38;5;28;01mas\u001b[39;00m e:\n\u001b[0;32m---> 49\u001b[0m         \u001b[38;5;28;01mraise\u001b[39;00m HTTPError(e)\n\u001b[1;32m     51\u001b[0m \u001b[38;5;28;01mreturn\u001b[39;00m r\n",
      "\u001b[0;31mHTTPError\u001b[0m: 401 Client Error: Unauthorized for url: https://serpapi.com/search?q=Arsenal+FC&engine=google&api_key=23f1ad4252211fa299c2b89e1b4f424468a7012f"
     ]
    }
   ],
   "source": [
    "# Test the function\n",
    "print(get_search_result('Arsenal FC'))"
   ]
  },
  {
   "cell_type": "code",
   "execution_count": null,
   "id": "5163d795",
   "metadata": {},
   "outputs": [],
   "source": [
    "\n",
    "# Define tools schema properly\n",
    "tools = [\n",
    "    {\n",
    "        \"type\": \"function\",\n",
    "        \"function\": {\n",
    "            \"name\": \"get_search_result\",\n",
    "            \"description\": \"Perform web search to answer questions about current events, people, or general knowledge\",\n",
    "            \"parameters\": {\n",
    "                \"type\": \"object\",\n",
    "                \"properties\": {\n",
    "                    \"query\": {\n",
    "                        \"type\": \"string\",\n",
    "                        \"description\": \"Search query\"\n",
    "                    }\n",
    "                },\n",
    "                \"required\": [\"query\"]\n",
    "            }\n",
    "        }\n",
    "    },\n",
    "    {\n",
    "        \"type\": \"function\",\n",
    "        \"function\": {\n",
    "            \"name\": \"get_walmart_product_information\",\n",
    "            \"description\": \"Get product details from Walmart\",\n",
    "            \"parameters\": {\n",
    "                \"type\": \"object\",\n",
    "                \"properties\": {\n",
    "                    \"product_name\": {\n",
    "                        \"type\": \"string\",\n",
    "                        \"description\": \"Name of product to search for\"\n",
    "                    }\n",
    "                },\n",
    "                \"required\": [\"product_name\"]\n",
    "            }\n",
    "        }\n",
    "    },\n",
    "    {\n",
    "        \"type\": \"function\",\n",
    "        \"function\": {\n",
    "            \"name\": \"get_flight_booking_info\",\n",
    "            \"description\": \"Search for flight information\",\n",
    "            \"parameters\": {\n",
    "                \"type\": \"object\",\n",
    "                \"properties\": {\n",
    "                    \"departure_id\": {\"type\": \"string\", \"description\": \"IATA code for departure airport\"},\n",
    "                    \"arrival_id\": {\"type\": \"string\", \"description\": \"IATA code for arrival airport\"},\n",
    "                    \"outbound_date\": {\"type\": \"string\", \"description\": \"Departure date (YYYY-MM-DD)\"},\n",
    "                    \"return_date\": {\"type\": \"string\", \"description\": \"Return date (YYYY-MM-DD)\"}\n",
    "                },\n",
    "                \"required\": [\"departure_id\", \"arrival_id\", \"outbound_date\"]\n",
    "            }\n",
    "        }\n",
    "    }\n",
    "]\n",
    "\n"
   ]
  },
  {
   "cell_type": "code",
   "execution_count": null,
   "id": "193d341d",
   "metadata": {},
   "outputs": [],
   "source": [
    "from datetime import date\n",
    "import json\n",
    "from groq import Groq \n",
    "\n",
    "# Initialize Groq client\n",
    "client = Groq(api_key=os.getenv(\"GROQ_API_KEY\"))\n",
    "\n",
    "today = date.today()\n",
    "today = today.strftime(\"%B %d, %Y\")\n",
    "\n",
    "messages = [\n",
    "    {\n",
    "        \"role\": \"system\",\n",
    "        \"content\": f\"\"\"You are an assistant that can perform question answering with web search, \n",
    "        product information retrieval, and flight booking information retrieval.\n",
    "        Today's date is: {today}\"\"\"\n",
    "    },\n",
    "    {\n",
    "        \"role\": \"user\", \n",
    "        \"content\": \"what happened to Jimmy Carter\"\n",
    "    }\n",
    "]\n",
    "\n",
    "# Corrected API call (chat.completions.create instead of chat_completion.create)\n",
    "response = client.chat.completions.create(\n",
    "    model=\"llama3-70b-8192\",  # Correct model name\n",
    "    messages=messages,\n",
    "    tools=tools,\n",
    "    tool_choice=\"auto\",\n",
    "    max_tokens=4006,\n",
    ")\n",
    "\n",
    "response_message = response.choices[0].message\n",
    "tool_calls = response_message.tool_calls\n",
    "print(f\"Initial Response: \\n{response_message}\\n\\n\")  # Fixed f-string\n",
    "\n",
    "if tool_calls:\n",
    "    available_functions = {\n",
    "        \"get_search_result\": get_search_result,\n",
    "        \"get_walmart_product_information\": get_walmart_product_information,\n",
    "        \"get_flight_booking_info\": get_flight_booking_info\n",
    "    }\n",
    "    messages.append(response_message)\n",
    "\n",
    "    for tool_call in tool_calls:\n",
    "        function_name = tool_call.function.name  # Correct attribute\n",
    "        function_to_call = available_functions.get(function_name)\n",
    "        function_args = json.loads(tool_call.function.arguments)\n",
    "        function_response = function_to_call(**function_args)\n",
    "        messages.append({\n",
    "            \"tool_call_id\": tool_call.id,\n",
    "            \"role\": \"tool\",\n",
    "            \"name\": function_name,\n",
    "            \"content\": str(function_response),\n",
    "        })\n",
    "\n",
    "    second_response = client.chat.completions.create(\n",
    "        model=\"llama3-70b-8192\",  # Correct model name\n",
    "        messages=messages\n",
    "    )\n",
    "    response = second_response\n",
    "\n",
    "print(f\"Final Response: {response.choices[0].message.content}\\n\\n\")"
   ]
  },
  {
   "cell_type": "code",
   "execution_count": null,
   "id": "db29ec84",
   "metadata": {},
   "outputs": [],
   "source": [
    "print(os.getenv(\"SERPER_API_KEY\"))"
   ]
  },
  {
   "cell_type": "markdown",
   "id": "202a4838",
   "metadata": {},
   "source": []
  },
  {
   "cell_type": "code",
   "execution_count": 4,
   "id": "98ef8d73",
   "metadata": {},
   "outputs": [
    {
     "name": "stdout",
     "output_type": "stream",
     "text": [
      "23f1ad4252211fa299c2b89e1b4f424468a7012f\n"
     ]
    }
   ],
   "source": [
    "from dotenv import load_dotenv\n",
    "import os\n",
    "\n",
    "load_dotenv()\n",
    "print(os.getenv(\"SERPER_API_KEY\"))  # Verify it loads correctly\n"
   ]
  },
  {
   "cell_type": "markdown",
   "id": "8da0c06e",
   "metadata": {},
   "source": []
  },
  {
   "cell_type": "code",
   "execution_count": 6,
   "id": "700b0108",
   "metadata": {},
   "outputs": [
    {
     "name": "stderr",
     "output_type": "stream",
     "text": [
      "/Users/a/Documents/DivverseLabs/AgenticAI_proj4/venv/lib/python3.10/site-packages/pydantic/_internal/_config.py:295: PydanticDeprecatedSince20: Support for class-based `config` is deprecated, use ConfigDict instead. Deprecated in Pydantic V2.0 to be removed in V3.0. See Pydantic V2 Migration Guide at https://errors.pydantic.dev/2.10/migration/\n",
      "  warnings.warn(DEPRECATION_MESSAGE, DeprecationWarning)\n"
     ]
    },
    {
     "ename": "ModuleNotFoundError",
     "evalue": "No module named 'databricks'",
     "output_type": "error",
     "traceback": [
      "\u001b[0;31m---------------------------------------------------------------------------\u001b[0m",
      "\u001b[0;31mModuleNotFoundError\u001b[0m                       Traceback (most recent call last)",
      "Cell \u001b[0;32mIn[6], line 1\u001b[0m\n\u001b[0;32m----> 1\u001b[0m \u001b[38;5;28;01mfrom\u001b[39;00m\u001b[38;5;250m \u001b[39m\u001b[38;5;21;01mcrewai_tools\u001b[39;00m\u001b[38;5;250m \u001b[39m\u001b[38;5;28;01mimport\u001b[39;00m SerperDevTool\n\u001b[1;32m      3\u001b[0m \u001b[38;5;66;03m# Initialize the search tool\u001b[39;00m\n\u001b[1;32m      4\u001b[0m tool \u001b[38;5;241m=\u001b[39m SerperDevTool()\n",
      "File \u001b[0;32m~/Documents/DivverseLabs/AgenticAI_proj4/venv/lib/python3.10/site-packages/crewai_tools/__init__.py:1\u001b[0m\n\u001b[0;32m----> 1\u001b[0m \u001b[38;5;28;01mfrom\u001b[39;00m\u001b[38;5;250m \u001b[39m\u001b[38;5;21;01m.\u001b[39;00m\u001b[38;5;21;01mtools\u001b[39;00m\u001b[38;5;250m \u001b[39m\u001b[38;5;28;01mimport\u001b[39;00m (\n\u001b[1;32m      2\u001b[0m     AIMindTool,\n\u001b[1;32m      3\u001b[0m     BraveSearchTool,\n\u001b[1;32m      4\u001b[0m     BrowserbaseLoadTool,\n\u001b[1;32m      5\u001b[0m     CodeDocsSearchTool,\n\u001b[1;32m      6\u001b[0m     CodeInterpreterTool,\n\u001b[1;32m      7\u001b[0m     ComposioTool,\n\u001b[1;32m      8\u001b[0m     CSVSearchTool,\n\u001b[1;32m      9\u001b[0m     DallETool,\n\u001b[1;32m     10\u001b[0m     DatabricksQueryTool,\n\u001b[1;32m     11\u001b[0m     DirectoryReadTool,\n\u001b[1;32m     12\u001b[0m     DirectorySearchTool,\n\u001b[1;32m     13\u001b[0m     DOCXSearchTool,\n\u001b[1;32m     14\u001b[0m     EXASearchTool,\n\u001b[1;32m     15\u001b[0m     FileReadTool,\n\u001b[1;32m     16\u001b[0m     FileWriterTool,\n\u001b[1;32m     17\u001b[0m     FirecrawlCrawlWebsiteTool,\n\u001b[1;32m     18\u001b[0m     FirecrawlScrapeWebsiteTool,\n\u001b[1;32m     19\u001b[0m     FirecrawlSearchTool,\n\u001b[1;32m     20\u001b[0m     GithubSearchTool,\n\u001b[1;32m     21\u001b[0m     HyperbrowserLoadTool,\n\u001b[1;32m     22\u001b[0m     JSONSearchTool,\n\u001b[1;32m     23\u001b[0m     LinkupSearchTool,\n\u001b[1;32m     24\u001b[0m     LlamaIndexTool,\n\u001b[1;32m     25\u001b[0m     MDXSearchTool,\n\u001b[1;32m     26\u001b[0m     MultiOnTool,\n\u001b[1;32m     27\u001b[0m     MySQLSearchTool,\n\u001b[1;32m     28\u001b[0m     NL2SQLTool,\n\u001b[1;32m     29\u001b[0m     PatronusEvalTool,\n\u001b[1;32m     30\u001b[0m     PatronusLocalEvaluatorTool,\n\u001b[1;32m     31\u001b[0m     PatronusPredefinedCriteriaEvalTool,\n\u001b[1;32m     32\u001b[0m     PDFSearchTool,\n\u001b[1;32m     33\u001b[0m     PGSearchTool,\n\u001b[1;32m     34\u001b[0m     QdrantVectorSearchTool,\n\u001b[1;32m     35\u001b[0m     RagTool,\n\u001b[1;32m     36\u001b[0m     ScrapeElementFromWebsiteTool,\n\u001b[1;32m     37\u001b[0m     ScrapegraphScrapeTool,\n\u001b[1;32m     38\u001b[0m     ScrapegraphScrapeToolSchema,\n\u001b[1;32m     39\u001b[0m     ScrapeWebsiteTool,\n\u001b[1;32m     40\u001b[0m     ScrapflyScrapeWebsiteTool,\n\u001b[1;32m     41\u001b[0m     SeleniumScrapingTool,\n\u001b[1;32m     42\u001b[0m     SerpApiGoogleSearchTool,\n\u001b[1;32m     43\u001b[0m     SerpApiGoogleShoppingTool,\n\u001b[1;32m     44\u001b[0m     SerperDevTool,\n\u001b[1;32m     45\u001b[0m     SerplyJobSearchTool,\n\u001b[1;32m     46\u001b[0m     SerplyNewsSearchTool,\n\u001b[1;32m     47\u001b[0m     SerplyScholarSearchTool,\n\u001b[1;32m     48\u001b[0m     SerplyWebpageToMarkdownTool,\n\u001b[1;32m     49\u001b[0m     SerplyWebSearchTool,\n\u001b[1;32m     50\u001b[0m     SnowflakeConfig,\n\u001b[1;32m     51\u001b[0m     SnowflakeSearchTool,\n\u001b[1;32m     52\u001b[0m     SpiderTool,\n\u001b[1;32m     53\u001b[0m     TXTSearchTool,\n\u001b[1;32m     54\u001b[0m     VisionTool,\n\u001b[1;32m     55\u001b[0m     WeaviateVectorSearchTool,\n\u001b[1;32m     56\u001b[0m     WebsiteSearchTool,\n\u001b[1;32m     57\u001b[0m     XMLSearchTool,\n\u001b[1;32m     58\u001b[0m     YoutubeChannelSearchTool,\n\u001b[1;32m     59\u001b[0m     YoutubeVideoSearchTool,\n\u001b[1;32m     60\u001b[0m )\n",
      "File \u001b[0;32m~/Documents/DivverseLabs/AgenticAI_proj4/venv/lib/python3.10/site-packages/crewai_tools/tools/__init__.py:9\u001b[0m\n\u001b[1;32m      7\u001b[0m \u001b[38;5;28;01mfrom\u001b[39;00m\u001b[38;5;250m \u001b[39m\u001b[38;5;21;01m.\u001b[39;00m\u001b[38;5;21;01mcsv_search_tool\u001b[39;00m\u001b[38;5;21;01m.\u001b[39;00m\u001b[38;5;21;01mcsv_search_tool\u001b[39;00m\u001b[38;5;250m \u001b[39m\u001b[38;5;28;01mimport\u001b[39;00m CSVSearchTool\n\u001b[1;32m      8\u001b[0m \u001b[38;5;28;01mfrom\u001b[39;00m\u001b[38;5;250m \u001b[39m\u001b[38;5;21;01m.\u001b[39;00m\u001b[38;5;21;01mdalle_tool\u001b[39;00m\u001b[38;5;21;01m.\u001b[39;00m\u001b[38;5;21;01mdalle_tool\u001b[39;00m\u001b[38;5;250m \u001b[39m\u001b[38;5;28;01mimport\u001b[39;00m DallETool\n\u001b[0;32m----> 9\u001b[0m \u001b[38;5;28;01mfrom\u001b[39;00m\u001b[38;5;250m \u001b[39m\u001b[38;5;21;01m.\u001b[39;00m\u001b[38;5;21;01mdatabricks_query_tool\u001b[39;00m\u001b[38;5;21;01m.\u001b[39;00m\u001b[38;5;21;01mdatabricks_query_tool\u001b[39;00m\u001b[38;5;250m \u001b[39m\u001b[38;5;28;01mimport\u001b[39;00m DatabricksQueryTool\n\u001b[1;32m     10\u001b[0m \u001b[38;5;28;01mfrom\u001b[39;00m\u001b[38;5;250m \u001b[39m\u001b[38;5;21;01m.\u001b[39;00m\u001b[38;5;21;01mdirectory_read_tool\u001b[39;00m\u001b[38;5;21;01m.\u001b[39;00m\u001b[38;5;21;01mdirectory_read_tool\u001b[39;00m\u001b[38;5;250m \u001b[39m\u001b[38;5;28;01mimport\u001b[39;00m DirectoryReadTool\n\u001b[1;32m     11\u001b[0m \u001b[38;5;28;01mfrom\u001b[39;00m\u001b[38;5;250m \u001b[39m\u001b[38;5;21;01m.\u001b[39;00m\u001b[38;5;21;01mdirectory_search_tool\u001b[39;00m\u001b[38;5;21;01m.\u001b[39;00m\u001b[38;5;21;01mdirectory_search_tool\u001b[39;00m\u001b[38;5;250m \u001b[39m\u001b[38;5;28;01mimport\u001b[39;00m DirectorySearchTool\n",
      "File \u001b[0;32m~/Documents/DivverseLabs/AgenticAI_proj4/venv/lib/python3.10/site-packages/crewai_tools/tools/databricks_query_tool/databricks_query_tool.py:5\u001b[0m\n\u001b[1;32m      2\u001b[0m \u001b[38;5;28;01mfrom\u001b[39;00m\u001b[38;5;250m \u001b[39m\u001b[38;5;21;01mtyping\u001b[39;00m\u001b[38;5;250m \u001b[39m\u001b[38;5;28;01mimport\u001b[39;00m Any, Dict, List, Optional, Type, Union\n\u001b[1;32m      4\u001b[0m \u001b[38;5;28;01mfrom\u001b[39;00m\u001b[38;5;250m \u001b[39m\u001b[38;5;21;01mcrewai\u001b[39;00m\u001b[38;5;21;01m.\u001b[39;00m\u001b[38;5;21;01mtools\u001b[39;00m\u001b[38;5;250m \u001b[39m\u001b[38;5;28;01mimport\u001b[39;00m BaseTool\n\u001b[0;32m----> 5\u001b[0m \u001b[38;5;28;01mfrom\u001b[39;00m\u001b[38;5;250m \u001b[39m\u001b[38;5;21;01mdatabricks\u001b[39;00m\u001b[38;5;21;01m.\u001b[39;00m\u001b[38;5;21;01msdk\u001b[39;00m\u001b[38;5;250m \u001b[39m\u001b[38;5;28;01mimport\u001b[39;00m WorkspaceClient\n\u001b[1;32m      6\u001b[0m \u001b[38;5;28;01mfrom\u001b[39;00m\u001b[38;5;250m \u001b[39m\u001b[38;5;21;01mpydantic\u001b[39;00m\u001b[38;5;250m \u001b[39m\u001b[38;5;28;01mimport\u001b[39;00m BaseModel, Field, model_validator\n\u001b[1;32m      9\u001b[0m \u001b[38;5;28;01mclass\u001b[39;00m\u001b[38;5;250m \u001b[39m\u001b[38;5;21;01mDatabricksQueryToolSchema\u001b[39;00m(BaseModel):\n",
      "\u001b[0;31mModuleNotFoundError\u001b[0m: No module named 'databricks'"
     ]
    }
   ],
   "source": [
    "from crewai_tools import SerperDevTool\n",
    "\n",
    "# Initialize the search tool\n",
    "tool = SerperDevTool()\n",
    "\n",
    "def get_search_result(query):\n",
    "    result = tool.run(query)  # Directly runs the query\n",
    "    return result\n",
    "\n",
    "# Test the function\n",
    "print(get_search_result('Arsenal FC'))\n"
   ]
  },
  {
   "cell_type": "code",
   "execution_count": 7,
   "id": "f56b018e",
   "metadata": {},
   "outputs": [
    {
     "name": "stderr",
     "output_type": "stream",
     "text": [
      "/Users/a/Documents/DivverseLabs/AgenticAI_proj4/venv/lib/python3.10/site-packages/pydantic/_internal/_fields.py:192: UserWarning: Field name \"schema\" in \"DatabricksQueryToolSchema\" shadows an attribute in parent \"BaseModel\"\n",
      "  warnings.warn(\n",
      "/Users/a/Documents/DivverseLabs/AgenticAI_proj4/venv/lib/python3.10/site-packages/pydantic/_internal/_generate_schema.py:502: UserWarning: <built-in function callable> is not a Python type (it may be an instance of an object), Pydantic will allow any object with no validation since we cannot even enforce that the input is an instance of the given type. To get rid of this error wrap the type with `pydantic.SkipValidation`.\n",
      "  warn(\n",
      "/Users/a/Documents/DivverseLabs/AgenticAI_proj4/venv/lib/python3.10/site-packages/crewai_tools/tools/scrapegraph_scrape_tool/scrapegraph_scrape_tool.py:34: PydanticDeprecatedSince20: Pydantic V1 style `@validator` validators are deprecated. You should migrate to Pydantic V2 style `@field_validator` validators, see the migration guide for more details. Deprecated in Pydantic V2.0 to be removed in V3.0. See Pydantic V2 Migration Guide at https://errors.pydantic.dev/2.10/migration/\n",
      "  @validator(\"website_url\")\n",
      "/Users/a/Documents/DivverseLabs/AgenticAI_proj4/venv/lib/python3.10/site-packages/crewai_tools/tools/selenium_scraping_tool/selenium_scraping_tool.py:26: PydanticDeprecatedSince20: Pydantic V1 style `@validator` validators are deprecated. You should migrate to Pydantic V2 style `@field_validator` validators, see the migration guide for more details. Deprecated in Pydantic V2.0 to be removed in V3.0. See Pydantic V2 Migration Guide at https://errors.pydantic.dev/2.10/migration/\n",
      "  @validator(\"website_url\")\n",
      "/Users/a/Documents/DivverseLabs/AgenticAI_proj4/venv/lib/python3.10/site-packages/crewai_tools/tools/vision_tool/vision_tool.py:15: PydanticDeprecatedSince20: Pydantic V1 style `@validator` validators are deprecated. You should migrate to Pydantic V2 style `@field_validator` validators, see the migration guide for more details. Deprecated in Pydantic V2.0 to be removed in V3.0. See Pydantic V2 Migration Guide at https://errors.pydantic.dev/2.10/migration/\n",
      "  @validator(\"image_path_url\")\n"
     ]
    },
    {
     "name": "stdout",
     "output_type": "stream",
     "text": [
      "Using Tool: Search the internet with Serper\n"
     ]
    },
    {
     "ename": "TypeError",
     "evalue": "SerperDevTool._run() takes 1 positional argument but 2 were given",
     "output_type": "error",
     "traceback": [
      "\u001b[0;31m---------------------------------------------------------------------------\u001b[0m",
      "\u001b[0;31mTypeError\u001b[0m                                 Traceback (most recent call last)",
      "Cell \u001b[0;32mIn[7], line 3\u001b[0m\n\u001b[1;32m      1\u001b[0m \u001b[38;5;28;01mfrom\u001b[39;00m\u001b[38;5;250m \u001b[39m\u001b[38;5;21;01mcrewai_tools\u001b[39;00m\u001b[38;5;250m \u001b[39m\u001b[38;5;28;01mimport\u001b[39;00m SerperDevTool\n\u001b[1;32m      2\u001b[0m tool \u001b[38;5;241m=\u001b[39m SerperDevTool()\n\u001b[0;32m----> 3\u001b[0m \u001b[38;5;28mprint\u001b[39m(\u001b[43mtool\u001b[49m\u001b[38;5;241;43m.\u001b[39;49m\u001b[43mrun\u001b[49m\u001b[43m(\u001b[49m\u001b[38;5;124;43m\"\u001b[39;49m\u001b[38;5;124;43mArsenal FC latest news\u001b[39;49m\u001b[38;5;124;43m\"\u001b[39;49m\u001b[43m)\u001b[49m)\n",
      "File \u001b[0;32m~/Documents/DivverseLabs/AgenticAI_proj4/venv/lib/python3.10/site-packages/crewai/tools/base_tool.py:69\u001b[0m, in \u001b[0;36mBaseTool.run\u001b[0;34m(self, *args, **kwargs)\u001b[0m\n\u001b[1;32m     63\u001b[0m \u001b[38;5;28;01mdef\u001b[39;00m\u001b[38;5;250m \u001b[39m\u001b[38;5;21mrun\u001b[39m(\n\u001b[1;32m     64\u001b[0m     \u001b[38;5;28mself\u001b[39m,\n\u001b[1;32m     65\u001b[0m     \u001b[38;5;241m*\u001b[39margs: Any,\n\u001b[1;32m     66\u001b[0m     \u001b[38;5;241m*\u001b[39m\u001b[38;5;241m*\u001b[39mkwargs: Any,\n\u001b[1;32m     67\u001b[0m ) \u001b[38;5;241m-\u001b[39m\u001b[38;5;241m>\u001b[39m Any:\n\u001b[1;32m     68\u001b[0m     \u001b[38;5;28mprint\u001b[39m(\u001b[38;5;124mf\u001b[39m\u001b[38;5;124m\"\u001b[39m\u001b[38;5;124mUsing Tool: \u001b[39m\u001b[38;5;132;01m{\u001b[39;00m\u001b[38;5;28mself\u001b[39m\u001b[38;5;241m.\u001b[39mname\u001b[38;5;132;01m}\u001b[39;00m\u001b[38;5;124m\"\u001b[39m)\n\u001b[0;32m---> 69\u001b[0m     \u001b[38;5;28;01mreturn\u001b[39;00m \u001b[38;5;28;43mself\u001b[39;49m\u001b[38;5;241;43m.\u001b[39;49m\u001b[43m_run\u001b[49m\u001b[43m(\u001b[49m\u001b[38;5;241;43m*\u001b[39;49m\u001b[43margs\u001b[49m\u001b[43m,\u001b[49m\u001b[43m \u001b[49m\u001b[38;5;241;43m*\u001b[39;49m\u001b[38;5;241;43m*\u001b[39;49m\u001b[43mkwargs\u001b[49m\u001b[43m)\u001b[49m\n",
      "\u001b[0;31mTypeError\u001b[0m: SerperDevTool._run() takes 1 positional argument but 2 were given"
     ]
    }
   ],
   "source": [
    "from crewai_tools import SerperDevTool\n",
    "tool = SerperDevTool()\n",
    "print(tool.run(\"Arsenal FC latest news\"))\n"
   ]
  },
  {
   "cell_type": "code",
   "execution_count": 10,
   "id": "1e2caa2c",
   "metadata": {},
   "outputs": [
    {
     "name": "stdout",
     "output_type": "stream",
     "text": [
      "{'searchParameters': {'q': 'Arsenal FC latest news', 'type': 'search', 'num': 10, 'engine': 'google'}, 'organic': [{'title': 'Arsenal News & Transfer Rumours - NewsNow', 'link': 'https://www.newsnow.com/us/Sports/Soccer/Premier+League/Arsenal', 'snippet': \"Arsenal make 'final offer' worth £101m as promising update from 'those close to the player' emerges · Exclusive: Andrea Berta is interested in bringing £84m ...\", 'position': 1}, {'title': 'Arsenal News: Latest News, Highlights & Club Updates', 'link': 'https://www.arsenal.com/news', 'snippet': 'Get all the breaking Arsenal news, live club updates and highlight videos from the official home of Arsenal. Sign up for exclusive video content.', 'position': 2, 'sitelinks': [{'title': 'Injury news on Nwaneri, Saka...', 'link': 'https://www.arsenal.com/news/injury-news-nwaneri-saka-martinelli-and-white'}, {'title': 'Team news: Lewis-Skelly...', 'link': 'https://www.arsenal.com/news/team-news-lewis-skelly-starts-champions-league'}, {'title': 'Features', 'link': 'https://www.arsenal.com/news/features'}, {'title': 'Quizzes', 'link': 'https://www.arsenal.com/news/quizzes'}]}, {'title': 'GoonerNews.com | Latest Arsenal News and Transfers', 'link': 'https://goonernews.com/', 'snippet': 'William Gallas Says Arsenal Need To Sign Gabriel And Saliba Replacement Amid Jakub Kiwior Claim · Arsenal predicted line-up vs Chelsea: six changes made as £42m ...', 'position': 3, 'sitelinks': [{'title': 'Transfer News', 'link': 'https://goonernews.com/blog/category/transfer-news/'}, {'title': 'Arsenal Fixtures, Results & Table', 'link': 'https://goonernews.com/blog/fixtures-and-results-and-table/'}, {'title': 'Injury News', 'link': 'https://goonernews.com/blog/category/injury-news/'}, {'title': 'Arsenal Squad', 'link': 'https://goonernews.com/blog/arsenal-first-team-squad-2024-25/'}]}, {'title': 'Arsenal FC – Latest news, updates, transfer rumours and analysis', 'link': 'https://metro.co.uk/tag/arsenal-fc/', 'snippet': \"Liverpool open talks to sign Arsenal's 'absolute top transfer target' · What Jurrien Timber said to Enzo Maresca as pair clashed during Arsenal's win over ...\", 'position': 4, 'sitelinks': [{'title': 'STORIES: Page 2', 'link': 'https://metro.co.uk/tag/arsenal-fc/page/2/'}, {'title': 'Football | Metro News', 'link': 'https://metro.co.uk/2025/02/28/arsenal-hold-talks-sign-bayern-munich-superstar-free-transfer-22644048/'}, {'title': 'Barcelona turn to Arsenal...', 'link': 'https://metro.co.uk/2025/02/17/barcelona-turn-arsenal-target-expect-man-utd-sign-65m-star-22570706/'}, {'title': '200', 'link': 'https://metro.co.uk/tag/arsenal-fc/page/200/'}]}, {'title': 'Arsenal FC - Latest news, pictures, video comment - Football.london', 'link': 'https://www.football.london/arsenal-fc/', 'snippet': \"Arsenal · Andrea Berta's marquee first signing as Arsenal open talks over £67m transfer · Viktor Gyokeres fires cryptic transfer message after double Mikel ...\", 'position': 5, 'sitelinks': [{'title': 'Arsenal News', 'link': 'https://www.football.london/arsenal-fc/news/'}, {'title': 'Transfer News', 'link': 'https://www.football.london/arsenal-fc/transfer-news/'}, {'title': 'Arsenal transfer news', 'link': 'https://www.football.london/all-about/arsenal-transfer-news'}, {'title': 'Get Arsenal transfer news...', 'link': 'https://www.football.london/arsenal-fc/news/arsenal-transfer-news-direct-your-30878369'}]}, {'title': 'Arsenal News, Fixtures, Transfers, Results | Sky Sports Football', 'link': 'https://www.skysports.com/arsenal', 'snippet': \"Arsenal 1-0 Chelsea | Premier League highlights. Makeshift striker Merino earns Arsenal London derby win · Latest News. Arsenal's Bukayo Saka celebrates after ...\", 'position': 6, 'sitelinks': [{'title': 'Scores & Fixtures', 'link': 'https://www.skysports.com/arsenal-scores-fixtures'}, {'title': 'Arsenal transfer news', 'link': 'https://www.skysports.com/football/live-blog/11670/13025486/arsenal-transfer-news-rumours-and-gossip-live-updates-and-latest-on-deals-signings-loans-and-contracts'}, {'title': \"Arsenal's Declan Rice, 'The...\", 'link': 'https://www.skysports.com/football/news/33799/13322787/arsenals-declan-rice-the-horse-evolving-into-an-attacking-midfielder-under-mikel-arteta-the-radar'}, {'title': 'On Sky', 'link': 'https://www.skysports.com/watch/football-on-sky/teams/arsenal'}]}, {'title': 'Arsenal FC - Transfer news, results, fixtures, video & audio - BBC', 'link': 'https://www.bbc.com/sport/football/teams/arsenal', 'snippet': \"Unai Emery's men will have to overcome Paris St-Germain for a place in the semi-final but will have home advantage in the second leg.\", 'position': 7}, {'title': 'Arsenal FC Official Website | Home | Arsenal.com', 'link': 'https://www.arsenal.com/', 'snippet': 'Arsenal Football Club Official Website: get the latest Arsenal FC news, highlights, fixtures and results. Become a free digital member for exclusive ...', 'position': 8, 'sitelinks': [{'title': 'Arsenal News', 'link': 'https://www.arsenal.com/news'}, {'title': 'Arsenal Fixtures', 'link': 'https://www.arsenal.com/fixtures'}, {'title': 'Tickets', 'link': 'https://www.arsenal.com/tickets'}, {'title': 'Arsenal Direct', 'link': 'https://arsenaldirect.arsenal.com/'}]}], 'peopleAlsoAsk': [{'question': \"Who is Arsenal's biggest enemy?\", 'snippet': \"Some fans consider Manchester United to be the club's biggest and most disliked rival, due to their constant altercations at the peak of English football.\", 'title': 'Arsenal F.C. supporters - Wikipedia', 'link': 'https://en.wikipedia.org/wiki/Arsenal_F.C._supporters'}, {'question': 'Who has Arsenal just signed?', 'snippet': 'DEADLINE DAY\\nRaheem Sterling signs for Arsenal on loan. The England international winger has joined us from Chelsea for the duration of the 2024/25 season.\\nNeto signs for Arsenal on season-long loan.\\nReiss Nelson joins Fulham on loan.\\nEddie Nketiah joins Crystal Palace.\\nAaron Ramsdale signs for Southampton.', 'title': 'Arsenal Transfer Centre | The latest news on signings and sales', 'link': 'https://www.arsenal.com/arsenal-transfers'}, {'question': 'Who is the number 5 player in Arsenal?', 'snippet': 'Arsenal Squad\\nName\\nPOS\\nThomas Partey5\\nM\\nMartin Ødegaard8\\nM\\nJorginho20\\nM\\nMikel Merino23\\nM', 'title': 'Arsenal 2024-25 Squad - ESPN', 'link': 'https://www.espn.com/soccer/team/squad/_/id/359/arsenal'}, {'question': 'Who is currently injured for Arsenal?', 'snippet': 'Boost athletic performance, recovery and injury rehab with infrared emitting clothing.\\nArsenal TRACK 5\\n\\n\\nPlayer Takehiro Tomiyasu\\nReason Knee Injury\\nStatus Ruled Out\\nPlayer Kai Havertz\\nReason Thigh Injury\\nStatus Ruled Out\\nPlayer Raheem Sterling\\nReason Other\\nStatus Ruled Out\\nPlayer Bukayo Saka\\nReason Thigh Injury\\nStatus Ruled Out', 'title': 'Arsenal Injuries - Premier Injuries', 'link': 'https://www.premierinjuries.com/teams/arsenal'}], 'relatedSearches': [{'query': 'Manchester United F.C.'}, {'query': 'Arsenal fc latest news sky sports'}, {'query': 'Arsenal news today live'}, {'query': 'Arsenal transfer news'}, {'query': 'Arsenal fc latest news now'}, {'query': 'Arsenal injury news'}, {'query': 'Fabrizio Romano Arsenal transfer news'}, {'query': 'Arsenal news now every 5 minutes'}, {'query': 'Arsenal transfer news today live'}], 'credits': 1}\n"
     ]
    }
   ],
   "source": [
    "result = tool._run(search_query=\"Arsenal FC latest news\")\n",
    "print(result)\n"
   ]
  },
  {
   "cell_type": "code",
   "execution_count": null,
   "id": "bd84f611",
   "metadata": {},
   "outputs": [],
   "source": []
  }
 ],
 "metadata": {
  "kernelspec": {
   "display_name": "Python 3 (ipykernel)",
   "language": "python",
   "name": "python3"
  },
  "language_info": {
   "codemirror_mode": {
    "name": "ipython",
    "version": 3
   },
   "file_extension": ".py",
   "mimetype": "text/x-python",
   "name": "python",
   "nbconvert_exporter": "python",
   "pygments_lexer": "ipython3",
   "version": "3.12.3"
  }
 },
 "nbformat": 4,
 "nbformat_minor": 5
}
